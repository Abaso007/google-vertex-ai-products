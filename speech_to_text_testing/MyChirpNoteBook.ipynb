{
 "cells": [
  {
   "cell_type": "code",
   "execution_count": 5,
   "metadata": {},
   "outputs": [],
   "source": [
    "from google.cloud.speech_v2 import SpeechClient\n",
    "from google.cloud.speech_v2.types import cloud_speech\n",
    "\n",
    "\n",
    "def quickstart_v2(\n",
    "    project_id: str,\n",
    "    audio_file: str,\n",
    ") -> cloud_speech.RecognizeResponse:\n",
    "    \"\"\"Transcribe an audio file.\"\"\"\n",
    "    # Instantiates a client\n",
    "    client = SpeechClient()\n",
    "\n",
    "    # Reads a file as bytes\n",
    "    with open(audio_file, \"rb\") as f:\n",
    "        content = f.read()\n",
    "\n",
    "    config = cloud_speech.RecognitionConfig(\n",
    "        auto_decoding_config={}, language_codes=[\"en-US\"], model=\"latest_long\"\n",
    "    )\n",
    "\n",
    "    request = cloud_speech.RecognizeRequest(\n",
    "        recognizer=f\"projects/{project_id}/locations/global/recognizers/_\",\n",
    "        config=config,\n",
    "        content=content,\n",
    "    )\n",
    "\n",
    "    # Transcribes the audio into text\n",
    "    response = client.recognize(request=request)\n",
    "\n",
    "    for result in response.results:\n",
    "        print(f\"Transcript: {result.alternatives[0].transcript}\")\n",
    "\n",
    "    return response\n",
    "\n",
    "\n",
    "my_project_id = \"adroit-metric-384510\""
   ]
  },
  {
   "cell_type": "code",
   "execution_count": 6,
   "metadata": {},
   "outputs": [
    {
     "name": "stdout",
     "output_type": "stream",
     "text": [
      "Transcript: so far\n",
      "Transcript:  as the ultimate goal is concerned\n",
      "Transcript:  I think none of us\n",
      "Transcript:  need have any apprehensions none of us need have any doubt\n",
      "Transcript:  but my fear which I must Express clearly\n",
      "Transcript:  is this\n",
      "Transcript:  our difficulty as I said is not about the ultimate future\n",
      "Transcript:  our difficulty is\n"
     ]
    }
   ],
   "source": [
    "my_audio_file = \"myAudio.mp3\"\n",
    "\n",
    "responseFromGoogle = quickstart_v2(my_project_id, my_audio_file)"
   ]
  },
  {
   "cell_type": "code",
   "execution_count": 7,
   "metadata": {},
   "outputs": [
    {
     "data": {
      "text/plain": [
       "results {\n",
       "  alternatives {\n",
       "    transcript: \"so far\"\n",
       "    confidence: 0.971142173\n",
       "  }\n",
       "  result_end_offset {\n",
       "    seconds: 2\n",
       "    nanos: 110000000\n",
       "  }\n",
       "  language_code: \"en-US\"\n",
       "}\n",
       "results {\n",
       "  alternatives {\n",
       "    transcript: \" as the ultimate goal is concerned\"\n",
       "    confidence: 0.966914356\n",
       "  }\n",
       "  result_end_offset {\n",
       "    seconds: 4\n",
       "    nanos: 840000000\n",
       "  }\n",
       "  language_code: \"en-US\"\n",
       "}\n",
       "results {\n",
       "  alternatives {\n",
       "    transcript: \" I think none of us\"\n",
       "    confidence: 0.966946781\n",
       "  }\n",
       "  result_end_offset {\n",
       "    seconds: 7\n",
       "    nanos: 50000000\n",
       "  }\n",
       "  language_code: \"en-US\"\n",
       "}\n",
       "results {\n",
       "  alternatives {\n",
       "    transcript: \" need have any apprehensions none of us need have any doubt\"\n",
       "    confidence: 0.956716359\n",
       "  }\n",
       "  result_end_offset {\n",
       "    seconds: 12\n",
       "    nanos: 660000000\n",
       "  }\n",
       "  language_code: \"en-US\"\n",
       "}\n",
       "results {\n",
       "  alternatives {\n",
       "    transcript: \" but my fear which I must Express clearly\"\n",
       "    confidence: 0.969098568\n",
       "  }\n",
       "  result_end_offset {\n",
       "    seconds: 16\n",
       "    nanos: 870000000\n",
       "  }\n",
       "  language_code: \"en-US\"\n",
       "}\n",
       "results {\n",
       "  alternatives {\n",
       "    transcript: \" is this\"\n",
       "    confidence: 0.972195446\n",
       "  }\n",
       "  result_end_offset {\n",
       "    seconds: 18\n",
       "    nanos: 350000000\n",
       "  }\n",
       "  language_code: \"en-US\"\n",
       "}\n",
       "results {\n",
       "  alternatives {\n",
       "    transcript: \" our difficulty as I said is not about the ultimate future\"\n",
       "    confidence: 0.967097521\n",
       "  }\n",
       "  result_end_offset {\n",
       "    seconds: 23\n",
       "    nanos: 90000000\n",
       "  }\n",
       "  language_code: \"en-US\"\n",
       "}\n",
       "results {\n",
       "  alternatives {\n",
       "    transcript: \" our difficulty is\"\n",
       "    confidence: 0.969353\n",
       "  }\n",
       "  result_end_offset {\n",
       "    seconds: 26\n",
       "    nanos: 140000000\n",
       "  }\n",
       "  language_code: \"en-US\"\n",
       "}\n",
       "metadata {\n",
       "  total_billed_duration {\n",
       "    seconds: 27\n",
       "  }\n",
       "}"
      ]
     },
     "execution_count": 7,
     "metadata": {},
     "output_type": "execute_result"
    }
   ],
   "source": [
    "responseFromGoogle"
   ]
  },
  {
   "cell_type": "code",
   "execution_count": 8,
   "metadata": {},
   "outputs": [
    {
     "name": "stdout",
     "output_type": "stream",
     "text": [
      "so far as the ultimate goal is concerned I think none of us need have any apprehensions none of us need have any doubt but my fear which I must Express clearly is this our difficulty as I said is not about the ultimate future our difficulty is\n"
     ]
    }
   ],
   "source": [
    "audioTranscript = ''.join(result.alternatives[0].transcript\n",
    "                          for result in responseFromGoogle.results)\n",
    "print(audioTranscript)"
   ]
  }
 ],
 "metadata": {
  "kernelspec": {
   "display_name": "Python 3",
   "language": "python",
   "name": "python3"
  },
  "language_info": {
   "codemirror_mode": {
    "name": "ipython",
    "version": 3
   },
   "file_extension": ".py",
   "mimetype": "text/x-python",
   "name": "python",
   "nbconvert_exporter": "python",
   "pygments_lexer": "ipython3",
   "version": "3.10.6"
  },
  "orig_nbformat": 4
 },
 "nbformat": 4,
 "nbformat_minor": 2
}
