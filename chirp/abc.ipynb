{
 "cells": [
  {
   "cell_type": "code",
   "execution_count": 1,
   "metadata": {},
   "outputs": [],
   "source": [
    "# Import the Speech-to-Text client library\n",
    "from google.cloud import speech\n",
    "\n",
    "# Instantiates a client\n",
    "client = speech.SpeechClient()"
   ]
  },
  {
   "cell_type": "code",
   "execution_count": 3,
   "metadata": {},
   "outputs": [],
   "source": [
    "my_audio_file = \"myAudio.mp3\"\n",
    "# Reads a file as bytes\n",
    "with open(my_audio_file, \"rb\") as f:\n",
    "        audio_content = f.read()"
   ]
  },
  {
   "cell_type": "code",
   "execution_count": 7,
   "metadata": {},
   "outputs": [],
   "source": [
    "# transcribe speech\n",
    "audio = speech.RecognitionAudio(content=audio_content)\n",
    "\n",
    "config = speech.RecognitionConfig(\n",
    "    \n",
    "    sample_rate_hertz=24000,\n",
    "    language_code=\"en-US\",\n",
    "    model=\"default\",\n",
    "    audio_channel_count=1,\n",
    "    enable_word_confidence=True,\n",
    "    enable_word_time_offsets=True,\n",
    ")\n"
   ]
  },
  {
   "cell_type": "code",
   "execution_count": 8,
   "metadata": {},
   "outputs": [
    {
     "name": "stdout",
     "output_type": "stream",
     "text": [
      "Waiting for operation to complete...\n",
      "Transcript: so far as the ultimate goal in pencil\n",
      "Transcript:  I think none of us need have any apprehension\n",
      "Transcript:  clearly\n",
      "Transcript:  is this\n",
      "Transcript:  our difficulties I said he's not about the ultimate future\n",
      "Transcript:  all difficulties\n"
     ]
    }
   ],
   "source": [
    "# Detects speech in the audio file\n",
    "operation = client.long_running_recognize(config=config, audio=audio)\n",
    "\n",
    "print(\"Waiting for operation to complete...\")\n",
    "response = operation.result(timeout=90)\n"
   ]
  },
  {
   "cell_type": "code",
   "execution_count": 9,
   "metadata": {},
   "outputs": [
    {
     "name": "stdout",
     "output_type": "stream",
     "text": [
      "Transcript: so far as the ultimate goal in pencil\n",
      "Transcript:  I think none of us need have any apprehension\n",
      "Transcript:  clearly\n",
      "Transcript:  is this\n",
      "Transcript:  our difficulties I said he's not about the ultimate future\n",
      "Transcript:  all difficulties\n"
     ]
    }
   ],
   "source": [
    "\n",
    "for result in response.results:\n",
    "  print(f\"Transcript: {result.alternatives[0].transcript}\")"
   ]
  },
  {
   "cell_type": "code",
   "execution_count": 10,
   "metadata": {},
   "outputs": [
    {
     "name": "stdout",
     "output_type": "stream",
     "text": [
      "so far as the ultimate goal in pencil I think none of us need have any apprehension clearly is this our difficulties I said he's not about the ultimate future all difficulties\n"
     ]
    }
   ],
   "source": [
    "audioTranscript = ''.join(result.alternatives[0].transcript\n",
    "                          for result in response.results)\n",
    "print(audioTranscript)"
   ]
  }
 ],
 "metadata": {
  "kernelspec": {
   "display_name": ".venv",
   "language": "python",
   "name": "python3"
  },
  "language_info": {
   "codemirror_mode": {
    "name": "ipython",
    "version": 3
   },
   "file_extension": ".py",
   "mimetype": "text/x-python",
   "name": "python",
   "nbconvert_exporter": "python",
   "pygments_lexer": "ipython3",
   "version": "3.10.6"
  },
  "orig_nbformat": 4
 },
 "nbformat": 4,
 "nbformat_minor": 2
}
